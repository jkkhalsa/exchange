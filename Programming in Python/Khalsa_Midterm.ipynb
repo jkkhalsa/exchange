{
 "cells": [
  {
   "cell_type": "code",
   "execution_count": 6,
   "metadata": {},
   "outputs": [],
   "source": [
    "#Midterm Exam, Programming in Python\n",
    "#Date 18/05/2022\n",
    "#Exam time: 2 hours (15-17h)\n",
    "#Important Notes:\n",
    "#Please name the file after your last name\n",
    "#Please upload the file before 5 PM\n",
    "#Please upload only one file\n",
    "#The only acceptable file format is ipynb or py\n",
    "#if you cannot upload the file send it by email\n",
    "#good luck"
   ]
  },
  {
   "cell_type": "code",
   "execution_count": 7,
   "metadata": {},
   "outputs": [
    {
     "name": "stdout",
     "output_type": "stream",
     "text": [
      "sum of all numbers odd or divisible by three between 200-700 is 149850\n"
     ]
    }
   ],
   "source": [
    "#Calculate the sum of all numbers that are odd or \n",
    "#divisible by 3 between 200 and 700 \n",
    "#(for example, you would include 6 but not 8)\n",
    "\n",
    "sum = 0\n",
    "\n",
    "for x in range(201, 700, 2): #add up all odd numbers\n",
    "    sum+=x\n",
    "for x in range(201, 700, 3): #add up all even numbers divisible by three\n",
    "    if(x%2 == 0):\n",
    "        sum+=x\n",
    "\n",
    "print(\"sum of all numbers odd or divisible by three between 200-700 is\", sum)"
   ]
  },
  {
   "cell_type": "code",
   "execution_count": 22,
   "metadata": {},
   "outputs": [
    {
     "name": "stdout",
     "output_type": "stream",
     "text": [
      "[224, 305, 989, 870, 473, 876, 954, 895, 334, 98, 744, 184, 732, 511, 865, 780, 1000, 726, 21, 473, 489, 976, 899, 845, 889, 231, 570, 417, 14, 388, 584, 234, 274, 699, 129, 842, 535, 954, 723, 685, 680, 381, 166, 446, 304, 424, 588, 253, 93, 393, 180, 747, 466, 77, 160, 611, 847, 70, 785, 963, 540, 981, 940, 805, 824, 744, 225, 958, 562, 108, 779, 780, 525, 1000, 63, 524, 836, 940, 62, 124, 185, 410, 565, 850, 312, 493, 175, 611, 345, 456, 864, 988, 294, 96, 364, 986, 304, 252, 393, 274]\n"
     ]
    }
   ],
   "source": [
    "#Write a code that generate an array of \n",
    "#100 random numbers but it does not include\n",
    "#any prime number\n",
    "#(hint: use randint between 3 and 1000 and only append to the\n",
    "# array if the generated number is NOT a prime)\n",
    "\n",
    "\n",
    "import random\n",
    "\n",
    "array = []\n",
    "isPrime = True\n",
    "temp = 0\n",
    "\n",
    "for x in range(100):\n",
    "    while(isPrime):\n",
    "        temp = random.randint(3, 1000)\n",
    "        for n in range(2, temp):\n",
    "            if(temp%n == 0):\n",
    "                isPrime = False\n",
    "    array.append(temp)\n",
    "    isPrime = True\n",
    "\n",
    "print(array)\n",
    "    "
   ]
  },
  {
   "cell_type": "code",
   "execution_count": 4,
   "metadata": {},
   "outputs": [
    {
     "name": "stdout",
     "output_type": "stream",
     "text": [
      "[1, 3, 4, 5, 6, 7, 10, 12, 14, 15, 17]\n"
     ]
    }
   ],
   "source": [
    "#We have two strings that represent DNA sequences\n",
    "#of two genes\n",
    "g1 = \"AAATCTAGGAATTTTCCC\"\n",
    "g2 = \"TACTCTAGCTACTGTCAC\"\n",
    "#save the indices of the positions in which \n",
    "#the letters matches in both genes\n",
    "#for example, in indices 1,3,4,5,6,... the letters\n",
    "#matches in the two strings\n",
    "\n",
    "indices = []\n",
    "current = 0 #track index\n",
    "\n",
    "for  x, y in zip(g1, g2):\n",
    "    if(x==y):\n",
    "        indices.append(current)\n",
    "    current += 1\n",
    "\n",
    "print(indices)"
   ]
  },
  {
   "cell_type": "code",
   "execution_count": 2,
   "metadata": {},
   "outputs": [
    {
     "name": "stdout",
     "output_type": "stream",
     "text": [
      "fix me\n",
      "fix me\n",
      "fix me\n",
      "2\n",
      "3\n"
     ]
    }
   ],
   "source": [
    "# fix the following code so it runs\n",
    "#1\n",
    "for _ in range(3):\n",
    "    if True:\n",
    "        print(\"fix me\")\n",
    "#2\n",
    "x=2\n",
    "if (x==2):\n",
    "    print(x)\n",
    "#3\n",
    "x=1\n",
    "y=2\n",
    "print(x+y)"
   ]
  }
 ],
 "metadata": {
  "interpreter": {
   "hash": "8f7a17a3473fb48c11575ef85b282d7b93d1c9470bd4837b1ca1666d58dbead5"
  },
  "kernelspec": {
   "display_name": "Python 3.10.4 64-bit",
   "language": "python",
   "name": "python3"
  },
  "language_info": {
   "codemirror_mode": {
    "name": "ipython",
    "version": 3
   },
   "file_extension": ".py",
   "mimetype": "text/x-python",
   "name": "python",
   "nbconvert_exporter": "python",
   "pygments_lexer": "ipython3",
   "version": "3.10.4"
  }
 },
 "nbformat": 4,
 "nbformat_minor": 2
}
