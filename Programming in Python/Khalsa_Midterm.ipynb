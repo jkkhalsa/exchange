{
 "cells": [
  {
   "cell_type": "code",
   "execution_count": 23,
   "metadata": {},
   "outputs": [],
   "source": [
    "#Midterm Exam, Programming in Python\n",
    "#Date 18/05/2022\n",
    "#Exam time: 2 hours (15-17h)\n",
    "#Important Notes:\n",
    "#Please name the file after your last name\n",
    "#Please upload the file before 5 PM\n",
    "#Please upload only one file\n",
    "#The only acceptable file format is ipynb or py\n",
    "#if you cannot upload the file send it by email\n",
    "#good luck"
   ]
  },
  {
   "cell_type": "code",
   "execution_count": 24,
   "metadata": {},
   "outputs": [
    {
     "name": "stdout",
     "output_type": "stream",
     "text": [
      "sum of all numbers odd or divisible by three between 200-700 is 149850\n"
     ]
    }
   ],
   "source": [
    "#Calculate the sum of all numbers that are odd or \n",
    "#divisible by 3 between 200 and 700 \n",
    "#(for example, you would include 6 but not 8)\n",
    "\n",
    "sum = 0\n",
    "\n",
    "for x in range(201, 700, 2): #add up all odd numbers\n",
    "    sum+=x\n",
    "for x in range(201, 700, 3): #add up all even numbers divisible by three\n",
    "    if(x%2 == 0):\n",
    "        sum+=x\n",
    "\n",
    "print(\"sum of all numbers odd or divisible by three between 200-700 is\", sum)"
   ]
  },
  {
   "cell_type": "code",
   "execution_count": 25,
   "metadata": {},
   "outputs": [
    {
     "name": "stdout",
     "output_type": "stream",
     "text": [
      "[451, 795, 88, 49, 164, 714, 952, 372, 490, 842, 592, 74, 542, 978, 802, 128, 618, 154, 378, 972, 444, 774, 612, 258, 369, 302, 865, 688, 900, 814, 538, 993, 213, 177, 539, 836, 565, 476, 914, 950, 908, 22, 190, 322, 998, 932, 551, 39, 858, 657, 634, 525, 441, 180, 636, 904, 497, 642, 348, 611, 9, 312, 666, 610, 40, 693, 582, 896, 220, 339, 381, 51, 420, 935, 438, 554, 598, 530, 51, 533, 605, 626, 231, 357, 774, 33, 485, 889, 175, 272, 666, 216, 640, 649, 206, 590, 68, 438, 258, 158]\n"
     ]
    }
   ],
   "source": [
    "#Write a code that generate an array of \n",
    "#100 random numbers but it does not include\n",
    "#any prime number\n",
    "#(hint: use randint between 3 and 1000 and only append to the\n",
    "# array if the generated number is NOT a prime)\n",
    "\n",
    "\n",
    "import random\n",
    "\n",
    "array = []\n",
    "isPrime = True\n",
    "temp = 0\n",
    "\n",
    "for x in range(100):\n",
    "    while(isPrime):\n",
    "        temp = random.randint(3, 1000)\n",
    "        for n in range(2, temp):\n",
    "            if(temp%n == 0):\n",
    "                isPrime = False\n",
    "    array.append(temp)\n",
    "    isPrime = True\n",
    "\n",
    "print(array)"
   ]
  },
  {
   "cell_type": "code",
   "execution_count": 26,
   "metadata": {},
   "outputs": [
    {
     "name": "stdout",
     "output_type": "stream",
     "text": [
      "[1, 3, 4, 5, 6, 7, 10, 12, 14, 15, 17]\n"
     ]
    }
   ],
   "source": [
    "#We have two strings that represent DNA sequences\n",
    "#of two genes\n",
    "g1 = \"AAATCTAGGAATTTTCCC\"\n",
    "g2 = \"TACTCTAGCTACTGTCAC\"\n",
    "#save the indices of the positions in which \n",
    "#the letters matches in both genes\n",
    "#for example, in indices 1,3,4,5,6,... the letters\n",
    "#matches in the two strings\n",
    "\n",
    "indices = []\n",
    "current = 0 #track index\n",
    "\n",
    "for  x, y in zip(g1, g2):\n",
    "    if(x==y):\n",
    "        indices.append(current)\n",
    "    current += 1\n",
    "\n",
    "print(indices)"
   ]
  },
  {
   "cell_type": "code",
   "execution_count": 27,
   "metadata": {},
   "outputs": [
    {
     "name": "stdout",
     "output_type": "stream",
     "text": [
      "fix me\n",
      "fix me\n",
      "fix me\n",
      "2\n",
      "3\n"
     ]
    }
   ],
   "source": [
    "# fix the following code so it runs\n",
    "#1\n",
    "for _ in range(3):\n",
    "    if True:\n",
    "        print(\"fix me\")\n",
    "#2\n",
    "x=2\n",
    "if (x==2):\n",
    "    print(x)\n",
    "#3\n",
    "x=1\n",
    "y=2\n",
    "print(x+y)"
   ]
  }
 ],
 "metadata": {
  "interpreter": {
   "hash": "8f7a17a3473fb48c11575ef85b282d7b93d1c9470bd4837b1ca1666d58dbead5"
  },
  "kernelspec": {
   "display_name": "Python 3.10.4 64-bit",
   "language": "python",
   "name": "python3"
  },
  "language_info": {
   "codemirror_mode": {
    "name": "ipython",
    "version": 3
   },
   "file_extension": ".py",
   "mimetype": "text/x-python",
   "name": "python",
   "nbconvert_exporter": "python",
   "pygments_lexer": "ipython3",
   "version": "3.10.4"
  }
 },
 "nbformat": 4,
 "nbformat_minor": 2
}
