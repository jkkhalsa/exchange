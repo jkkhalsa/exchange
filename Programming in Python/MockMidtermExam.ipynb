{
 "cells": [
  {
   "cell_type": "code",
   "execution_count": 2,
   "metadata": {},
   "outputs": [
    {
     "name": "stdout",
     "output_type": "stream",
     "text": [
      "Sum of all numbers divisible by 3 from 200 to 700: 75150\n"
     ]
    }
   ],
   "source": [
    "#Calculate the sum of all numbers divisible by 3 between 200 and 700\n",
    "\n",
    "s = 0\n",
    "for x in range(201, 700, 3): #stepping by 3 is faster than checking each number separately\n",
    "    s += x\n",
    "print(\"Sum of all numbers divisible by 3 from 200 to 700:\", s)"
   ]
  },
  {
   "cell_type": "code",
   "execution_count": 6,
   "metadata": {},
   "outputs": [
    {
     "name": "stdout",
     "output_type": "stream",
     "text": [
      "[431, 947, 457, 997, 337, 853, 601, 313, 787, 463]\n"
     ]
    }
   ],
   "source": [
    "#Write a code that generate an array of 10 random prime numbers\n",
    "#(hint: use randint between 3 and 1000 and only append to the\n",
    "# array if the generated number is prime)\n",
    "import random\n",
    "\n",
    "array = [0]*10\n",
    "\n",
    "for i in range(0, 10):\n",
    "    isPrime = False\n",
    "    while not isPrime:\n",
    "        y = random.randint(3, 1000)\n",
    "        if (y%2!=0 and y%3!=0 and y%5!=0 and y%11!=0 and y%7!=0 and y%13!=0 and y%17\n",
    "        !=0):\n",
    "            isPrime = True\n",
    "    array[i] = y\n",
    "\n",
    "print(array)"
   ]
  },
  {
   "cell_type": "code",
   "execution_count": 15,
   "metadata": {},
   "outputs": [
    {
     "name": "stdout",
     "output_type": "stream",
     "text": [
      "46\n"
     ]
    }
   ],
   "source": [
    "#create a two lists of random integers (between 1 and 100) of 100 elements\n",
    "#loop over the two lists simultaneously and count the number of times\n",
    "#two odd or even elements exist in the same index\n",
    "#for example: \n",
    "# a = [1,2,3,4,5]\n",
    "# b = [3,3,4,2,1]\n",
    "#then your code should print 3 (because (1,3) odd, (4,2) even, (5,1)odd)\n",
    "\n",
    "a = [0]*100\n",
    "b = [0]*100\n",
    "\n",
    "beancounter = 0\n",
    "\n",
    "for i in range(0, 100):\n",
    "    a[i] = random.randint(1, 100)\n",
    "    b[i] = random.randint(1, 100)\n",
    "\n",
    "for i in range(0, 100):\n",
    "    if(a[i]%2 == 0 and b[i]%2 == 0):\n",
    "        beancounter += 1\n",
    "    elif(a[i]%2 == 1 and b[i]%2 == 1):\n",
    "        beancounter += 1\n",
    "\n",
    "print(beancounter)\n"
   ]
  },
  {
   "cell_type": "code",
   "execution_count": 1,
   "metadata": {},
   "outputs": [
    {
     "name": "stdout",
     "output_type": "stream",
     "text": [
      "fix me\n",
      "0\n",
      "1\n",
      "2\n",
      "4\n"
     ]
    }
   ],
   "source": [
    "\n",
    "# fix the following code so it runs\n",
    "#1\n",
    "if True:\n",
    "    print(\"fix me\")\n",
    "#2\n",
    "for i in range(3):\n",
    "    print(i)\n",
    "#3\n",
    "x=[1,2,3,4]\n",
    "print(x[3])"
   ]
  },
  {
   "cell_type": "code",
   "execution_count": null,
   "metadata": {},
   "outputs": [],
   "source": []
  }
 ],
 "metadata": {
  "interpreter": {
   "hash": "8f7a17a3473fb48c11575ef85b282d7b93d1c9470bd4837b1ca1666d58dbead5"
  },
  "kernelspec": {
   "display_name": "Python 3.10.4 64-bit",
   "language": "python",
   "name": "python3"
  },
  "language_info": {
   "codemirror_mode": {
    "name": "ipython",
    "version": 3
   },
   "file_extension": ".py",
   "mimetype": "text/x-python",
   "name": "python",
   "nbconvert_exporter": "python",
   "pygments_lexer": "ipython3",
   "version": "3.10.4"
  }
 },
 "nbformat": 4,
 "nbformat_minor": 2
}
