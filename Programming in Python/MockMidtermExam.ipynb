{
 "cells": [
  {
   "cell_type": "code",
   "execution_count": 1,
   "metadata": {},
   "outputs": [],
   "source": [
    "#Calculate the sum of all numbers divisible by 3 between 200 and 700"
   ]
  },
  {
   "cell_type": "code",
   "execution_count": 3,
   "metadata": {},
   "outputs": [],
   "source": [
    "#Write a code that generate an array of 10 random prime numbers\n",
    "#(hint: use randint between 3 and 1000 and only append to the\n",
    "# array if the generated number is prime)"
   ]
  },
  {
   "cell_type": "code",
   "execution_count": 4,
   "metadata": {},
   "outputs": [],
   "source": [
    "#create a two lists of random integers (between 1 and 100) of 100 elements\n",
    "#loop over the two lists simultaneously and count the number of times\n",
    "#two odd or even elements exist in the same index\n",
    "#for example: \n",
    "# a = [1,2,3,4,5]\n",
    "# b = [3,3,4,2,1]\n",
    "#then your code should print 3 (because (1,3) odd, (4,2) even, (5,1)odd)"
   ]
  },
  {
   "cell_type": "code",
   "execution_count": 5,
   "metadata": {},
   "outputs": [
    {
     "ename": "SyntaxError",
     "evalue": "invalid syntax (<ipython-input-5-c018813f8976>, line 6)",
     "output_type": "error",
     "traceback": [
      "\u001b[0;36m  File \u001b[0;32m\"<ipython-input-5-c018813f8976>\"\u001b[0;36m, line \u001b[0;32m6\u001b[0m\n\u001b[0;31m    for i in range(3)\u001b[0m\n\u001b[0m                     ^\u001b[0m\n\u001b[0;31mSyntaxError\u001b[0m\u001b[0;31m:\u001b[0m invalid syntax\n"
     ]
    }
   ],
   "source": [
    "# fix the following code so it runs\n",
    "#1\n",
    "if True:\n",
    "    print(\"fix me\")\n",
    "#2\n",
    "for i in range(3):\n",
    "    print(i)\n",
    "#3\n",
    "x=[1,2,3,4]\n",
    "print(x[3])"
   ]
  },
  {
   "cell_type": "code",
   "execution_count": null,
   "metadata": {},
   "outputs": [],
   "source": []
  }
 ],
 "metadata": {
  "interpreter": {
   "hash": "8f7a17a3473fb48c11575ef85b282d7b93d1c9470bd4837b1ca1666d58dbead5"
  },
  "kernelspec": {
   "display_name": "Python 3.10.4 64-bit",
   "language": "python",
   "name": "python3"
  },
  "language_info": {
   "codemirror_mode": {
    "name": "ipython",
    "version": 3
   },
   "file_extension": ".py",
   "mimetype": "text/x-python",
   "name": "python",
   "nbconvert_exporter": "python",
   "pygments_lexer": "ipython3",
   "version": "3.10.4"
  }
 },
 "nbformat": 4,
 "nbformat_minor": 2
}
