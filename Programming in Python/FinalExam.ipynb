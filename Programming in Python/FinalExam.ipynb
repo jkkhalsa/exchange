{
 "cells": [
  {
   "cell_type": "code",
   "execution_count": 1,
   "metadata": {},
   "outputs": [],
   "source": [
    "# write a function that switches the upper case letters in a string into\n",
    "# lowercase\n",
    "# for example, if you pass to it \"It is Summer\" your function returns\n",
    "# \"it is summer\""
   ]
  },
  {
   "cell_type": "code",
   "execution_count": 2,
   "metadata": {},
   "outputs": [],
   "source": [
    "# write a function that sums all prime numbers from a range provided by the\n",
    "# user"
   ]
  },
  {
   "cell_type": "code",
   "execution_count": 3,
   "metadata": {},
   "outputs": [],
   "source": [
    "# write a function that takes an array and return a reversed array \n",
    "# for example: if you pass to it a = [1,2,3] then you function should return\n",
    "# [3,2,1]"
   ]
  },
  {
   "cell_type": "code",
   "execution_count": 4,
   "metadata": {},
   "outputs": [],
   "source": [
    "# write a function that takes a list of strings and returns\n",
    "# how many strings could be converted to integers\n",
    "# for example if you pass to it: x = [\"0\", \"1\",\"d\", \"5\",\"1\",\"h\"]\n",
    "# then your function returns 4"
   ]
  },
  {
   "cell_type": "code",
   "execution_count": null,
   "metadata": {},
   "outputs": [],
   "source": [
    "# write a function that reads the file grades.txt and prints the average\n",
    "# grades of all students with first name starts with \"M\" \n",
    "#(in both subjects)"
   ]
  }
 ],
 "metadata": {
  "kernelspec": {
   "display_name": "Python 3",
   "language": "python",
   "name": "python3"
  },
  "language_info": {
   "codemirror_mode": {
    "name": "ipython",
    "version": 3
   },
   "file_extension": ".py",
   "mimetype": "text/x-python",
   "name": "python",
   "nbconvert_exporter": "python",
   "pygments_lexer": "ipython3",
   "version": "3.7.3"
  }
 },
 "nbformat": 4,
 "nbformat_minor": 2
}
