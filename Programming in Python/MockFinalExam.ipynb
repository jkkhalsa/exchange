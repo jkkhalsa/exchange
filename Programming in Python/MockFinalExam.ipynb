{
 "cells": [
  {
   "cell_type": "code",
   "execution_count": null,
   "metadata": {},
   "outputs": [],
   "source": [
    "# write a function that counts how many upper case letters in a string"
   ]
  },
  {
   "cell_type": "code",
   "execution_count": null,
   "metadata": {},
   "outputs": [],
   "source": [
    "# write a function that sums all even numbers from a range provided by the\n",
    "# user\n",
    "\n",
    "begin = input(\"Please enter the start of the range (inclusive).\")\n",
    "end = input(\"Please enter the end of the range (exclusive).\")\n",
    "sum = 0\n",
    "\n",
    "#if the start isn't an even number, make it the first even number\n",
    "if(begin%2 != 0):\n",
    "    begin += 1\n",
    "\n",
    "#count by twos to sum\n",
    "for x in range(begin, end, 2):\n",
    "    sum += x\n",
    "\n",
    "    \n",
    "print(\"Sum is\", sum)\n",
    "\n"
   ]
  },
  {
   "cell_type": "code",
   "execution_count": null,
   "metadata": {},
   "outputs": [],
   "source": [
    "# write a function that takes two arrays and return an array with is the\n",
    "# sum of the elements in the two arrays\n",
    "# for example: a = [1,2,3] b = [4,5,6] then you function should return\n",
    "# [5,7,9]"
   ]
  },
  {
   "cell_type": "code",
   "execution_count": null,
   "metadata": {},
   "outputs": [],
   "source": [
    "# write a function that takes a list of both int and strings and returns\n",
    "# how many integers and how many strings\n",
    "# for example if you pass to it: x = [0, 1,2,\"d\", 5,\"r\",\"h\"]\n",
    "# then your function returns (4,3)"
   ]
  },
  {
   "cell_type": "code",
   "execution_count": null,
   "metadata": {},
   "outputs": [],
   "source": [
    "# write a function that reads the file grades.txt and prints the name\n",
    "# of the student with the highest average grade in both subjects"
   ]
  },
  {
   "cell_type": "code",
   "execution_count": null,
   "metadata": {},
   "outputs": [],
   "source": []
  }
 ],
 "metadata": {
  "interpreter": {
   "hash": "8f7a17a3473fb48c11575ef85b282d7b93d1c9470bd4837b1ca1666d58dbead5"
  },
  "kernelspec": {
   "display_name": "Python 3.10.4 64-bit",
   "language": "python",
   "name": "python3"
  },
  "language_info": {
   "codemirror_mode": {
    "name": "ipython",
    "version": 3
   },
   "file_extension": ".py",
   "mimetype": "text/x-python",
   "name": "python",
   "nbconvert_exporter": "python",
   "pygments_lexer": "ipython3",
   "version": "3.10.4"
  }
 },
 "nbformat": 4,
 "nbformat_minor": 2
}
