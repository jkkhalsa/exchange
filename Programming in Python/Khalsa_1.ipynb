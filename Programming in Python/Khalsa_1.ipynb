{
 "cells": [
  {
   "cell_type": "code",
   "execution_count": 53,
   "metadata": {},
   "outputs": [
    {
     "name": "stdout",
     "output_type": "stream",
     "text": [
      "Sum of primes 76125\n"
     ]
    }
   ],
   "source": [
    "# The following code we studied for calculating the sum of prime\n",
    "# numbers from 3 to 1000. Write a comment next to each line, which\n",
    "# explain what this line is doing\n",
    "\n",
    "\n",
    "s = 0 #create running total, initialize to zero\n",
    "for x in range(3,1001):  #iterate through numbers from 3 to 1000 (inclusive)\n",
    "    for i in range(2,x): #iterate through numbers 2 to whatever the above loop is on (exclusive)\n",
    "        if x%i==0:  #if x is not a prime number (if we find something x can be divided by)\n",
    "            break   #then drop the number\n",
    "    else:       #if x is a prime number (we haven't broken yet)\n",
    "        s+=x    #add x to the running total\n",
    "print(\"Sum of primes\", s)   #output results. feel good about self.\n",
    "\n"
   ]
  },
  {
   "cell_type": "code",
   "execution_count": 42,
   "metadata": {},
   "outputs": [
    {
     "name": "stdout",
     "output_type": "stream",
     "text": [
      "Sum of all numbers divisible by 3 from 200 to 2000: 66656700\n"
     ]
    }
   ],
   "source": [
    "# Write a code to sum all numbers divisible by 3 from 200 to 2000\n",
    "\n",
    "s = 0\n",
    "for x in range(201, 20001, 3): #stepping by 3 is faster than checking each number separately\n",
    "    s += x\n",
    "print(\"Sum of all numbers divisible by 3 from 200 to 2000:\", s)\n",
    "    "
   ]
  },
  {
   "cell_type": "code",
   "execution_count": 43,
   "metadata": {},
   "outputs": [
    {
     "name": "stdout",
     "output_type": "stream",
     "text": [
      "Sum of all numbers divisible by 4 from 0 to 20: 60\n"
     ]
    }
   ],
   "source": [
    "# Write a code to multiply all numbers divisible by 4 from 0 to 20\n",
    "\n",
    "s = 0\n",
    "for x in range(0, 21, 4):\n",
    "    s += x\n",
    "print(\"Sum of all numbers divisible by 4 from 0 to 20:\", s)"
   ]
  },
  {
   "cell_type": "code",
   "execution_count": 41,
   "metadata": {},
   "outputs": [
    {
     "name": "stdout",
     "output_type": "stream",
     "text": [
      "Winner of game is player 1 with score 31\n"
     ]
    }
   ],
   "source": [
    "# Think about the problem we introduced and the end of the class \n",
    "# (May 4th) and write you implementation \n",
    "\n",
    "\"\"\"\n",
    "PROBLEM SPECS FROM MEMORY\n",
    "roll dice for each player in turn each round, for x rounds\n",
    "find total score of each player at end\n",
    "output who won\n",
    "\"\"\"\n",
    "\n",
    "import random\n",
    "\n",
    "numPlayers = 4\n",
    "numRounds = 10\n",
    "storage = [0] * numPlayers\n",
    "\n",
    "for i in range(numRounds):\n",
    "    for j in range(numPlayers):\n",
    "        storage[j] += random.randint(1,6)\n",
    "\n",
    "winner = storage.index(max(storage))\n",
    "\n",
    "print(\"Winner of game is player\", winner+1, \"with score\", storage[winner])\n"
   ]
  },
  {
   "cell_type": "code",
   "execution_count": null,
   "metadata": {},
   "outputs": [],
   "source": []
  }
 ],
 "metadata": {
  "kernelspec": {
   "display_name": "Python 3",
   "language": "python",
   "name": "python3"
  },
  "language_info": {
   "codemirror_mode": {
    "name": "ipython",
    "version": 3
   },
   "file_extension": ".py",
   "mimetype": "text/x-python",
   "name": "python",
   "nbconvert_exporter": "python",
   "pygments_lexer": "ipython3",
   "version": "3.7.3"
  }
 },
 "nbformat": 4,
 "nbformat_minor": 2
}
