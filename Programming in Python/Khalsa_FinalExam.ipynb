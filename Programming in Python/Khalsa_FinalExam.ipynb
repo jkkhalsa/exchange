{
 "cells": [
  {
   "cell_type": "code",
   "execution_count": 25,
   "metadata": {},
   "outputs": [
    {
     "name": "stdout",
     "output_type": "stream",
     "text": [
      "Lowercase function returns it is summer\n"
     ]
    }
   ],
   "source": [
    "# write a function that switches the upper case letters in a string into\n",
    "# lowercase\n",
    "# for example, if you pass to it \"It is Summer\" your function returns\n",
    "# \"it is summer\"\n",
    "\n",
    "def Lowercase(editString):\n",
    "    return editString.lower()\n",
    "    \n",
    "\n",
    "testing = input(\"Give me a string!\")\n",
    "print(\"Lowercase function returns:\", Lowercase(testing))"
   ]
  },
  {
   "cell_type": "code",
   "execution_count": 26,
   "metadata": {},
   "outputs": [
    {
     "name": "stdout",
     "output_type": "stream",
     "text": [
      "PrimeSum function returns: 6\n"
     ]
    }
   ],
   "source": [
    "# write a function that sums all prime numbers from a range provided by the\n",
    "# user\n",
    "\n",
    "def PrimeSum(begin, end):\n",
    "    sum = 0\n",
    "    isPrime = True\n",
    "\n",
    "    #sum all primes\n",
    "    for x in range(begin, end):\n",
    "        #check if this number is prime\n",
    "        for y in range(2, x):\n",
    "            if (x%y == 0):\n",
    "                isPrime = False\n",
    "                break;\n",
    "        #add number if it's prime\n",
    "        if(isPrime):\n",
    "            sum += x\n",
    "\n",
    "    return sum\n",
    "\n",
    "\n",
    "begin = int(input(\"Please enter the start of the range (inclusive).\"))\n",
    "end = int(input(\"Please enter the end of the range (exclusive).\"))\n",
    "\n",
    "print(\"PrimeSum function returns:\", PrimeSum(begin, end))"
   ]
  },
  {
   "cell_type": "code",
   "execution_count": 16,
   "metadata": {},
   "outputs": [
    {
     "name": "stdout",
     "output_type": "stream",
     "text": [
      "[3, 2, 1]\n"
     ]
    }
   ],
   "source": [
    "# write a function that takes an array and return a reversed array \n",
    "# for example: if you pass to it a = [1,2,3] then you function should return\n",
    "# [3,2,1]\n",
    "\n",
    "def Reverse(list):\n",
    "    newArray = []\n",
    "    #iterate backwards over array (negative numbers iterate from end)\n",
    "    for i in range(1, len(list)):\n",
    "        i = i * -1\n",
    "        newArray.append(list[i])\n",
    "    #grab and append the first element of old array\n",
    "    newArray.append(list[0])\n",
    "\n",
    "    return newArray\n",
    "\n",
    "\n",
    "\n",
    "testArray = [1, 2, 3]\n",
    "print(\"Reverse function returns:\", Reverse(testArray))"
   ]
  },
  {
   "cell_type": "code",
   "execution_count": 27,
   "metadata": {},
   "outputs": [
    {
     "name": "stdout",
     "output_type": "stream",
     "text": [
      "CountToInt function returns: 4\n"
     ]
    }
   ],
   "source": [
    "# write a function that takes a list of strings and returns\n",
    "# how many strings could be converted to integers\n",
    "# for example if you pass to it: x = [\"0\", \"1\",\"d\", \"5\",\"1\",\"h\"]\n",
    "# then your function returns 4\n",
    "\n",
    "def CountToInt(list):\n",
    "    amount = 0\n",
    "    #iterate over list\n",
    "    for item in list:\n",
    "        try: #attempt to convert item to an integer\n",
    "            int(item)\n",
    "        except: #error thrown? can't be converted, move on\n",
    "            pass\n",
    "        else: #no error? we found another one, add it up\n",
    "            amount += 1\n",
    "    return amount\n",
    "\n",
    "\n",
    "\n",
    "testArray = [\"0\", \"1\",\"d\", \"5\",\"1\",\"h\"]\n",
    "print(\"CountToInt function returns:\", CountToInt(testArray))\n"
   ]
  },
  {
   "cell_type": "code",
   "execution_count": 28,
   "metadata": {},
   "outputs": [
    {
     "name": "stdout",
     "output_type": "stream",
     "text": [
      "AverageOfM function returns: [21.75, 21.0]\n"
     ]
    }
   ],
   "source": [
    "# write a function that reads the file grades.txt and prints the average\n",
    "# grades of all students with first name starts with \"M\" \n",
    "#(in both subjects)\n",
    "\n",
    "def AverageOfM(fileName):\n",
    "    mathAverage = 0\n",
    "    englishAverage = 0\n",
    "    mCount = 0\n",
    "\n",
    "    with open(fileName) as text: #open file\n",
    "        for(index, line) in enumerate(text): #iterate over file\n",
    "            newLine = line.split(',') #split each line by commas\n",
    "            if(line[0][0] == 'M'): #check if name starts with 'M'\n",
    "                #if name is correct, add to running totals\n",
    "                englishAverage += int(newLine[1])\n",
    "                mathAverage += int(newLine[2])\n",
    "                mCount += 1\n",
    "            \n",
    "    #average them out with number of Ms\n",
    "    mathAverage /= mCount\n",
    "    englishAverage /= mCount\n",
    "\n",
    "    #return both averages\n",
    "    return [mathAverage, englishAverage]\n",
    "             \n",
    "\n",
    "print(\"AverageOfM function returns:\", AverageOfM(\"grades.txt\"))\n"
   ]
  }
 ],
 "metadata": {
  "interpreter": {
   "hash": "8f7a17a3473fb48c11575ef85b282d7b93d1c9470bd4837b1ca1666d58dbead5"
  },
  "kernelspec": {
   "display_name": "Python 3.10.4 64-bit",
   "language": "python",
   "name": "python3"
  },
  "language_info": {
   "codemirror_mode": {
    "name": "ipython",
    "version": 3
   },
   "file_extension": ".py",
   "mimetype": "text/x-python",
   "name": "python",
   "nbconvert_exporter": "python",
   "pygments_lexer": "ipython3",
   "version": "3.10.4"
  }
 },
 "nbformat": 4,
 "nbformat_minor": 2
}
