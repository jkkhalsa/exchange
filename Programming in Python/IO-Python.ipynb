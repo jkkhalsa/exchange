{
 "cells": [
  {
   "cell_type": "code",
   "execution_count": 1,
   "metadata": {},
   "outputs": [],
   "source": [
    "f = open(\"NewTextFile.txt\", \"w\")"
   ]
  },
  {
   "cell_type": "code",
   "execution_count": 2,
   "metadata": {},
   "outputs": [
    {
     "data": {
      "text/plain": [
       "49"
      ]
     },
     "execution_count": 2,
     "metadata": {},
     "output_type": "execute_result"
    }
   ],
   "source": [
    "f.write(\"This is the first time I edit file through Python\")"
   ]
  },
  {
   "cell_type": "code",
   "execution_count": 3,
   "metadata": {},
   "outputs": [],
   "source": [
    "f.close()"
   ]
  },
  {
   "cell_type": "code",
   "execution_count": 4,
   "metadata": {},
   "outputs": [],
   "source": [
    "x = \"University of Groningen\""
   ]
  },
  {
   "cell_type": "code",
   "execution_count": 5,
   "metadata": {},
   "outputs": [
    {
     "data": {
      "text/plain": [
       "['University', 'of', 'Groningen']"
      ]
     },
     "execution_count": 5,
     "metadata": {},
     "output_type": "execute_result"
    }
   ],
   "source": [
    "x.split()"
   ]
  },
  {
   "cell_type": "code",
   "execution_count": 6,
   "metadata": {},
   "outputs": [],
   "source": [
    "x = \"University,of,Groningen\""
   ]
  },
  {
   "cell_type": "code",
   "execution_count": 7,
   "metadata": {},
   "outputs": [
    {
     "data": {
      "text/plain": [
       "['University', 'of', 'Groningen']"
      ]
     },
     "execution_count": 7,
     "metadata": {},
     "output_type": "execute_result"
    }
   ],
   "source": [
    "x.split(\",\")"
   ]
  },
  {
   "cell_type": "code",
   "execution_count": 8,
   "metadata": {},
   "outputs": [
    {
     "data": {
      "text/plain": [
       "['University,of', 'Groningen']"
      ]
     },
     "execution_count": 8,
     "metadata": {},
     "output_type": "execute_result"
    }
   ],
   "source": [
    "x = \"University,of Groningen\"\n",
    "x.split()"
   ]
  },
  {
   "cell_type": "code",
   "execution_count": 1,
   "metadata": {},
   "outputs": [
    {
     "ename": "KeyboardInterrupt",
     "evalue": "Interrupted by user",
     "output_type": "error",
     "traceback": [
      "\u001b[1;31m---------------------------------------------------------------------------\u001b[0m",
      "\u001b[1;31mKeyboardInterrupt\u001b[0m                         Traceback (most recent call last)",
      "\u001b[1;32mc:\\Users\\trick\\Documents\\github\\exchange\\Programming in Python\\IO-Python.ipynb Cell 9'\u001b[0m in \u001b[0;36m<cell line: 1>\u001b[1;34m()\u001b[0m\n\u001b[1;32m----> <a href='vscode-notebook-cell:/c%3A/Users/trick/Documents/github/exchange/Programming%20in%20Python/IO-Python.ipynb#ch0000008?line=0'>1</a>\u001b[0m name \u001b[39m=\u001b[39m \u001b[39minput\u001b[39;49m(\u001b[39m\"\u001b[39;49m\u001b[39mPlease enter student name\u001b[39;49m\u001b[39m\"\u001b[39;49m)\n\u001b[0;32m      <a href='vscode-notebook-cell:/c%3A/Users/trick/Documents/github/exchange/Programming%20in%20Python/IO-Python.ipynb#ch0000008?line=1'>2</a>\u001b[0m f \u001b[39m=\u001b[39m \u001b[39mopen\u001b[39m(\u001b[39m\"\u001b[39m\u001b[39mNewTextFile.txt\u001b[39m\u001b[39m\"\u001b[39m, \u001b[39m\"\u001b[39m\u001b[39mw\u001b[39m\u001b[39m\"\u001b[39m)\n\u001b[0;32m      <a href='vscode-notebook-cell:/c%3A/Users/trick/Documents/github/exchange/Programming%20in%20Python/IO-Python.ipynb#ch0000008?line=2'>3</a>\u001b[0m f\u001b[39m.\u001b[39mwrite(\u001b[39m\"\u001b[39m\u001b[39mStudent Name is: \u001b[39m\u001b[39m\"\u001b[39m\u001b[39m+\u001b[39mname)\n",
      "File \u001b[1;32mc:\\Users\\trick\\AppData\\Local\\Programs\\Python\\Python310\\lib\\site-packages\\ipykernel\\kernelbase.py:1161\u001b[0m, in \u001b[0;36mKernel.raw_input\u001b[1;34m(self, prompt)\u001b[0m\n\u001b[0;32m   <a href='file:///c%3A/Users/trick/AppData/Local/Programs/Python/Python310/lib/site-packages/ipykernel/kernelbase.py?line=1156'>1157</a>\u001b[0m \u001b[39mif\u001b[39;00m \u001b[39mnot\u001b[39;00m \u001b[39mself\u001b[39m\u001b[39m.\u001b[39m_allow_stdin:\n\u001b[0;32m   <a href='file:///c%3A/Users/trick/AppData/Local/Programs/Python/Python310/lib/site-packages/ipykernel/kernelbase.py?line=1157'>1158</a>\u001b[0m     \u001b[39mraise\u001b[39;00m StdinNotImplementedError(\n\u001b[0;32m   <a href='file:///c%3A/Users/trick/AppData/Local/Programs/Python/Python310/lib/site-packages/ipykernel/kernelbase.py?line=1158'>1159</a>\u001b[0m         \u001b[39m\"\u001b[39m\u001b[39mraw_input was called, but this frontend does not support input requests.\u001b[39m\u001b[39m\"\u001b[39m\n\u001b[0;32m   <a href='file:///c%3A/Users/trick/AppData/Local/Programs/Python/Python310/lib/site-packages/ipykernel/kernelbase.py?line=1159'>1160</a>\u001b[0m     )\n\u001b[1;32m-> <a href='file:///c%3A/Users/trick/AppData/Local/Programs/Python/Python310/lib/site-packages/ipykernel/kernelbase.py?line=1160'>1161</a>\u001b[0m \u001b[39mreturn\u001b[39;00m \u001b[39mself\u001b[39;49m\u001b[39m.\u001b[39;49m_input_request(\n\u001b[0;32m   <a href='file:///c%3A/Users/trick/AppData/Local/Programs/Python/Python310/lib/site-packages/ipykernel/kernelbase.py?line=1161'>1162</a>\u001b[0m     \u001b[39mstr\u001b[39;49m(prompt),\n\u001b[0;32m   <a href='file:///c%3A/Users/trick/AppData/Local/Programs/Python/Python310/lib/site-packages/ipykernel/kernelbase.py?line=1162'>1163</a>\u001b[0m     \u001b[39mself\u001b[39;49m\u001b[39m.\u001b[39;49m_parent_ident[\u001b[39m\"\u001b[39;49m\u001b[39mshell\u001b[39;49m\u001b[39m\"\u001b[39;49m],\n\u001b[0;32m   <a href='file:///c%3A/Users/trick/AppData/Local/Programs/Python/Python310/lib/site-packages/ipykernel/kernelbase.py?line=1163'>1164</a>\u001b[0m     \u001b[39mself\u001b[39;49m\u001b[39m.\u001b[39;49mget_parent(\u001b[39m\"\u001b[39;49m\u001b[39mshell\u001b[39;49m\u001b[39m\"\u001b[39;49m),\n\u001b[0;32m   <a href='file:///c%3A/Users/trick/AppData/Local/Programs/Python/Python310/lib/site-packages/ipykernel/kernelbase.py?line=1164'>1165</a>\u001b[0m     password\u001b[39m=\u001b[39;49m\u001b[39mFalse\u001b[39;49;00m,\n\u001b[0;32m   <a href='file:///c%3A/Users/trick/AppData/Local/Programs/Python/Python310/lib/site-packages/ipykernel/kernelbase.py?line=1165'>1166</a>\u001b[0m )\n",
      "File \u001b[1;32mc:\\Users\\trick\\AppData\\Local\\Programs\\Python\\Python310\\lib\\site-packages\\ipykernel\\kernelbase.py:1205\u001b[0m, in \u001b[0;36mKernel._input_request\u001b[1;34m(self, prompt, ident, parent, password)\u001b[0m\n\u001b[0;32m   <a href='file:///c%3A/Users/trick/AppData/Local/Programs/Python/Python310/lib/site-packages/ipykernel/kernelbase.py?line=1201'>1202</a>\u001b[0m             \u001b[39mbreak\u001b[39;00m\n\u001b[0;32m   <a href='file:///c%3A/Users/trick/AppData/Local/Programs/Python/Python310/lib/site-packages/ipykernel/kernelbase.py?line=1202'>1203</a>\u001b[0m \u001b[39mexcept\u001b[39;00m \u001b[39mKeyboardInterrupt\u001b[39;00m:\n\u001b[0;32m   <a href='file:///c%3A/Users/trick/AppData/Local/Programs/Python/Python310/lib/site-packages/ipykernel/kernelbase.py?line=1203'>1204</a>\u001b[0m     \u001b[39m# re-raise KeyboardInterrupt, to truncate traceback\u001b[39;00m\n\u001b[1;32m-> <a href='file:///c%3A/Users/trick/AppData/Local/Programs/Python/Python310/lib/site-packages/ipykernel/kernelbase.py?line=1204'>1205</a>\u001b[0m     \u001b[39mraise\u001b[39;00m \u001b[39mKeyboardInterrupt\u001b[39;00m(\u001b[39m\"\u001b[39m\u001b[39mInterrupted by user\u001b[39m\u001b[39m\"\u001b[39m) \u001b[39mfrom\u001b[39;00m \u001b[39mNone\u001b[39m\n\u001b[0;32m   <a href='file:///c%3A/Users/trick/AppData/Local/Programs/Python/Python310/lib/site-packages/ipykernel/kernelbase.py?line=1205'>1206</a>\u001b[0m \u001b[39mexcept\u001b[39;00m \u001b[39mException\u001b[39;00m:\n\u001b[0;32m   <a href='file:///c%3A/Users/trick/AppData/Local/Programs/Python/Python310/lib/site-packages/ipykernel/kernelbase.py?line=1206'>1207</a>\u001b[0m     \u001b[39mself\u001b[39m\u001b[39m.\u001b[39mlog\u001b[39m.\u001b[39mwarning(\u001b[39m\"\u001b[39m\u001b[39mInvalid Message:\u001b[39m\u001b[39m\"\u001b[39m, exc_info\u001b[39m=\u001b[39m\u001b[39mTrue\u001b[39;00m)\n",
      "\u001b[1;31mKeyboardInterrupt\u001b[0m: Interrupted by user"
     ]
    }
   ],
   "source": [
    "name = input(\"Please enter student name\")\n",
    "f = open(\"NewTextFile.txt\", \"w\")\n",
    "f.write(\"Student Name is: \"+name)\n",
    "f.close()"
   ]
  },
  {
   "cell_type": "code",
   "execution_count": 3,
   "metadata": {},
   "outputs": [],
   "source": []
  },
  {
   "cell_type": "code",
   "execution_count": 10,
   "metadata": {},
   "outputs": [
    {
     "name": "stdout",
     "output_type": "stream",
     "text": [
      "46.25\n"
     ]
    }
   ],
   "source": [
    "# Take the average of class for the two course and exclude the students who didn't take the 2 courses\n",
    "f = open(\"NewTextFile.txt\")\n",
    "c = False\n",
    "s = []\n",
    "for i in f:\n",
    "    try:\n",
    "        s.append(int(i.split(\",\")[1])+int(i.split(\",\")[2]))\n",
    "    except:\n",
    "        pass\n",
    "        #print(i.split(\",\")[0]+\" did not take the course\")\n",
    "print(sum(s)/len(s))\n",
    "f.close()"
   ]
  },
  {
   "cell_type": "code",
   "execution_count": 14,
   "metadata": {},
   "outputs": [],
   "source": [
    "f = open(\"NewTextFile.txt\",\"a\")\n",
    "f.write(\"Lara,22,29\"+\"\\n\")\n",
    "f.close()"
   ]
  },
  {
   "cell_type": "code",
   "execution_count": 16,
   "metadata": {},
   "outputs": [],
   "source": [
    "# delete a record\n",
    "Name = \"Ahmed\"\n",
    "f = open(\"NewTextFile.txt\")\n",
    "newRecord =[]\n",
    "for i in f:\n",
    "    if i.split(\",\")[0]!=Name:\n",
    "        newRecord.append(i)\n",
    "f.close()\n",
    "############\n",
    "f = open(\"NewTextFile.txt\",\"w\")\n",
    "for i in newRecord:\n",
    "    f.write(i)\n",
    "f.close()"
   ]
  },
  {
   "cell_type": "code",
   "execution_count": null,
   "metadata": {},
   "outputs": [],
   "source": []
  }
 ],
 "metadata": {
  "interpreter": {
   "hash": "8f7a17a3473fb48c11575ef85b282d7b93d1c9470bd4837b1ca1666d58dbead5"
  },
  "kernelspec": {
   "display_name": "Python 3.10.4 64-bit",
   "language": "python",
   "name": "python3"
  },
  "language_info": {
   "codemirror_mode": {
    "name": "ipython",
    "version": 3
   },
   "file_extension": ".py",
   "mimetype": "text/x-python",
   "name": "python",
   "nbconvert_exporter": "python",
   "pygments_lexer": "ipython3",
   "version": "3.10.4"
  }
 },
 "nbformat": 4,
 "nbformat_minor": 2
}
