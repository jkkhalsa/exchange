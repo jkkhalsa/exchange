{
 "cells": [
  {
   "cell_type": "code",
   "execution_count": 2,
   "metadata": {},
   "outputs": [],
   "source": [
    "#generate 2 arrays of random numbers and store their division in a third array\n",
    "#this means that if you have generated a, b random arrays, then\n",
    "#c[i]=a[i]/b[i]\n",
    "#the length of the 3 arrays should be 100 elements"
   ]
  },
  {
   "cell_type": "code",
   "execution_count": 7,
   "metadata": {},
   "outputs": [],
   "source": [
    "#find the maximum and the minimum elements in the 3 arrays"
   ]
  },
  {
   "cell_type": "code",
   "execution_count": 8,
   "metadata": {},
   "outputs": [
    {
     "name": "stdout",
     "output_type": "stream",
     "text": [
      "0.6\n"
     ]
    }
   ],
   "source": [
    "#search for elements that are smaller than 0.7 and greater than 0.5 in all arrays       "
   ]
  },
  {
   "cell_type": "code",
   "execution_count": 4,
   "metadata": {},
   "outputs": [],
   "source": [
    "#suppose that you want to design a game, which runs for 5 iterations\n",
    "#the game contains 2 player. Each player will roll a dice once at each iteration\n",
    "#after 10 iterations the winner is the player, who have the largest sum of the outcome of \n",
    "#all iterations\n",
    "#for example if player 1 had 6, 6, 6, 6, 6\n",
    "#and player 2 got 5, 5, 5, 5, 5\n",
    "#then player 1 is the winner as the sum of the outcome of all iterations is larger \n",
    "#than player 2\n",
    "#in case the two player got similar results then your game should print \"no winner\"\n"
   ]
  },
  {
   "cell_type": "code",
   "execution_count": 5,
   "metadata": {},
   "outputs": [],
   "source": [
    "#generate a random array of 50 elements, then create another array that is the reverse\n",
    "#order of array a. For example, if a = [1,2,3,4] then b=[4,2,3,1]"
   ]
  },
  {
   "cell_type": "code",
   "execution_count": 6,
   "metadata": {},
   "outputs": [],
   "source": [
    "#generate a random array of 50 elements, then generate another array that equal the first\n",
    "#array muliplied by 3. For example, if a=[1,2,3], then b=[3,6,9]"
   ]
  },
  {
   "cell_type": "code",
   "execution_count": 7,
   "metadata": {},
   "outputs": [],
   "source": [
    "#calculate the sum of array a, excluding the max element\n",
    "#for example, if a =[1,2,3] then your code should print 3 because it will exclude 3"
   ]
  },
  {
   "cell_type": "code",
   "execution_count": 1,
   "metadata": {},
   "outputs": [],
   "source": [
    "#calculate the sum of all elements from 0 to 1000 excluding the prime numbers\n",
    "#calculate the sum of all prime numbers from 0 to 1000"
   ]
  },
  {
   "cell_type": "code",
   "execution_count": null,
   "metadata": {
    "scrolled": true
   },
   "outputs": [],
   "source": []
  },
  {
   "cell_type": "code",
   "execution_count": null,
   "metadata": {},
   "outputs": [],
   "source": []
  },
  {
   "cell_type": "code",
   "execution_count": null,
   "metadata": {},
   "outputs": [],
   "source": []
  }
 ],
 "metadata": {
  "kernelspec": {
   "display_name": "Python 3",
   "language": "python",
   "name": "python3"
  },
  "language_info": {
   "codemirror_mode": {
    "name": "ipython",
    "version": 3
   },
   "file_extension": ".py",
   "mimetype": "text/x-python",
   "name": "python",
   "nbconvert_exporter": "python",
   "pygments_lexer": "ipython3",
   "version": "3.7.3"
  }
 },
 "nbformat": 4,
 "nbformat_minor": 4
}
