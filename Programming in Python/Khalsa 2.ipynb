{
 "cells": [
  {
   "cell_type": "code",
   "execution_count": 136,
   "metadata": {},
   "outputs": [],
   "source": [
    "#generate 2 arrays of random numbers and store their division in a third array\n",
    "#this means that if you have generated a, b random arrays, then\n",
    "#c[i]=a[i]/b[i]\n",
    "#the length of the 3 arrays should be 100 elements\n",
    "\n",
    "import random\n",
    "\n",
    "a = [0]*100\n",
    "b = [0]*100\n",
    "c = [0]*100\n",
    "\n",
    "for i in range(0, 100):\n",
    "    a[i] = random.uniform(0, 100)\n",
    "    b[i] = random.uniform(0, 100)\n",
    "    c[i] = a[i]/b[i]"
   ]
  },
  {
   "cell_type": "code",
   "execution_count": 137,
   "metadata": {},
   "outputs": [
    {
     "name": "stdout",
     "output_type": "stream",
     "text": [
      "List A\tMax 98.9226500180967 Min 3.157556551195617\n",
      "List B\tMax 98.53715864892747 Min 1.6971632196875475\n",
      "List C\tMax 45.62998620891309 Min 0.035810076841838054\n"
     ]
    }
   ],
   "source": [
    "#find the maximum and the minimum elements in the 3 arrays\n",
    "\n",
    "list.sort(a)\n",
    "list.sort(b)\n",
    "list.sort(c)\n",
    "\n",
    "print(\"List A\\tMax\", a[99], \"Min\", a[0])\n",
    "print(\"List B\\tMax\", b[99], \"Min\", b[0])\n",
    "print(\"List C\\tMax\", c[99], \"Min\", c[0])"
   ]
  },
  {
   "cell_type": "code",
   "execution_count": 138,
   "metadata": {},
   "outputs": [
    {
     "name": "stdout",
     "output_type": "stream",
     "text": [
      "Elements in a:\t []\n",
      "Elements in b\t []\n",
      "Elements in c\t [0.52785864176668, 0.5447596865144825, 0.5867706169723814, 0.5888816373729137, 0.6226098685378026, 0.6494435846515255, 0.6623839142552139, 0.668651214102647, 0.689880164076741]\n"
     ]
    }
   ],
   "source": [
    "#search for elements that are smaller than 0.7 and greater than 0.5 in all arrays\n",
    "\n",
    "aRun = True\n",
    "bRun = True\n",
    "cRun = True\n",
    "i = 0\n",
    "\n",
    "start = [0]*3\n",
    "end = [0]*3\n",
    "\n",
    "    #these arrays are still sorted from the previous block. so we go through to find the range where\n",
    "    #'smaller than .7 and greater than .5' holds, then return that range for printing.\n",
    "\n",
    "\n",
    "while(aRun or bRun or cRun):\n",
    "    #check a array\n",
    "    if(aRun and a[i] > .5 and a[i] <.7):\n",
    "        if(start[0] == 0):\n",
    "            start[0] = i\n",
    "        end[0] = i+1\n",
    "    elif(a[i] > .7):\n",
    "        aRun = False\n",
    "\n",
    "    #check b array\n",
    "    if(bRun and b[i] > .5 and b[i] <.7):\n",
    "        if(start[1] == 0):\n",
    "            start[1] = i\n",
    "        end[1] = i+1\n",
    "    elif(b[i] > .7):\n",
    "        bRun = False\n",
    "\n",
    "    #check c array\n",
    "    if(cRun and c[i] > .5 and c[i] <.7):\n",
    "        if(start[2] == 0):\n",
    "            start[2] = i\n",
    "        end[2] = i+1\n",
    "    elif(c[i] > .7):\n",
    "        cRun = False\n",
    "    \n",
    "    i +=1\n",
    "\n",
    "\n",
    "print(\"Elements in a:\\t\", a[start[0]:end[0]])\n",
    "print(\"Elements in b\\t\", b[start[1]:end[1]])\n",
    "print(\"Elements in c\\t\", c[start[2]:end[2]])\n",
    "\n"
   ]
  },
  {
   "cell_type": "code",
   "execution_count": 139,
   "metadata": {},
   "outputs": [
    {
     "name": "stdout",
     "output_type": "stream",
     "text": [
      "Winner of game is player 2\n"
     ]
    }
   ],
   "source": [
    "#suppose that you want to design a game, which runs for 5 iterations\n",
    "#the game contains 2 player. Each player will roll a dice once at each iteration\n",
    "#after 10 iterations the winner is the player, who have the largest sum of the outcome of \n",
    "#all iterations\n",
    "#for example if player 1 had 6, 6, 6, 6, 6\n",
    "#and player 2 got 5, 5, 5, 5, 5\n",
    "#then player 1 is the winner as the sum of the outcome of all iterations is larger \n",
    "#than player 2\n",
    "#in case the two player got similar results then your game should print \"no winner\"\n",
    "\n",
    "storage = [0, 0]\n",
    "\n",
    "for i in range(10):\n",
    "    for j in range(2):\n",
    "        storage[j] += random.randint(1,6)\n",
    "\n",
    "if(storage[0]==storage[1]):\n",
    "    print(\"no winner\")\n",
    "elif(storage[0]>storage[1]):\n",
    "    print(\"Winner of game is player 1\")\n",
    "else:\n",
    "    print(\"Winner of game is player 2\")\n"
   ]
  },
  {
   "cell_type": "code",
   "execution_count": null,
   "metadata": {},
   "outputs": [],
   "source": []
  },
  {
   "cell_type": "code",
   "execution_count": 140,
   "metadata": {},
   "outputs": [
    {
     "name": "stdout",
     "output_type": "stream",
     "text": [
      "[83, 31, 81, 55, 95, 34, 89, 40, 57, 92, 49, 7, 1, 13, 21, 23, 53, 68, 62, 99, 75, 20, 3, 10, 15, 33, 20, 25, 81, 19, 39, 7, 52, 68, 60, 0, 95, 90, 12, 88, 80, 39, 66, 24, 70, 2, 63, 95, 74, 94] \n",
      " [94, 74, 95, 63, 2, 70, 24, 66, 39, 80, 88, 12, 90, 95, 0, 60, 68, 52, 7, 39, 19, 81, 25, 20, 33, 15, 10, 3, 20, 75, 99, 62, 68, 53, 23, 21, 13, 1, 7, 49, 92, 57, 40, 89, 34, 95, 55, 81, 31, 83]\n"
     ]
    }
   ],
   "source": [
    "#generate a random array of 50 elements, then create another array that is the reverse\n",
    "#order of array a. For example, if a = [1,2,3,4] then b=[4,2,3,1]\n",
    "\n",
    "a = [0]*50\n",
    "b = [0]*50\n",
    "\n",
    "for x in range(50):\n",
    "    a[x] = random.randint(0, 100)\n",
    "    b[-x-1] = a[x]\n",
    "\n",
    "print(a, \"\\n\", b)\n"
   ]
  },
  {
   "cell_type": "code",
   "execution_count": 141,
   "metadata": {},
   "outputs": [
    {
     "name": "stdout",
     "output_type": "stream",
     "text": [
      "[72, 85, 46, 45, 71, 74, 84, 74, 80, 18, 35, 68, 47, 56, 51, 27, 68, 68, 13, 38, 55, 38, 10, 63, 34, 17, 45, 8, 70, 0, 74, 71, 16, 18, 28, 11, 73, 66, 94, 13, 31, 98, 81, 77, 22, 85, 46, 58, 70, 87] \n",
      " [216, 255, 138, 135, 213, 222, 252, 222, 240, 54, 105, 204, 141, 168, 153, 81, 204, 204, 39, 114, 165, 114, 30, 189, 102, 51, 135, 24, 210, 0, 222, 213, 48, 54, 84, 33, 219, 198, 282, 39, 93, 294, 243, 231, 66, 255, 138, 174, 210, 261]\n"
     ]
    }
   ],
   "source": [
    "#generate a random array of 50 elements, then generate another array that equal the first\n",
    "#array muliplied by 3. For example, if a=[1,2,3], then b=[3,6,9]\n",
    "\n",
    "a = [0]*50\n",
    "b = [0]*50\n",
    "\n",
    "for x in range(50):\n",
    "    a[x] = random.randint(0, 100)\n",
    "    b[x] = a[x]*3\n",
    "\n",
    "print(a,\"\\n\", b)\n"
   ]
  },
  {
   "cell_type": "code",
   "execution_count": 142,
   "metadata": {},
   "outputs": [
    {
     "name": "stdout",
     "output_type": "stream",
     "text": [
      "2481\n"
     ]
    }
   ],
   "source": [
    "#calculate the sum of array a, excluding the max element\n",
    "#for example, if a =[1,2,3] then your code should print 3 because it will exclude 3\n",
    "\n",
    "list.sort(a)\n",
    "\n",
    "sum = 0\n",
    "\n",
    "for x in range(list.__len__(a)-1):\n",
    "    sum += a[x]\n",
    "\n",
    "print(sum)\n",
    "\n"
   ]
  },
  {
   "cell_type": "code",
   "execution_count": 144,
   "metadata": {},
   "outputs": [
    {
     "name": "stdout",
     "output_type": "stream",
     "text": [
      "Sum of all elements excluding primes\t 411907\n",
      "Sum of all prime numbers\t 88593\n"
     ]
    }
   ],
   "source": [
    "#calculate the sum of all elements from 0 to 1000 excluding the prime numbers\n",
    "#calculate the sum of all prime numbers from 0 to 1000\n",
    "\n",
    "nonPrimeSum = 0\n",
    "primeSum = 0\n",
    "\n",
    "for i in range(1001):\n",
    "    if(i%2!=0 and i%3!=0 and i%5!=0 and i%11!=0 and i%7!=0 and i%13!=0 and i%17!=0):\n",
    "        primeSum += i\n",
    "    else:\n",
    "        nonPrimeSum += i\n",
    "\n",
    "print(\"Sum of all elements excluding primes\\t\", nonPrimeSum)\n",
    "print(\"Sum of all prime numbers\\t\\t\", primeSum)\n"
   ]
  }
 ],
 "metadata": {
  "interpreter": {
   "hash": "8f7a17a3473fb48c11575ef85b282d7b93d1c9470bd4837b1ca1666d58dbead5"
  },
  "kernelspec": {
   "display_name": "Python 3.10.4 64-bit",
   "language": "python",
   "name": "python3"
  },
  "language_info": {
   "codemirror_mode": {
    "name": "ipython",
    "version": 3
   },
   "file_extension": ".py",
   "mimetype": "text/x-python",
   "name": "python",
   "nbconvert_exporter": "python",
   "pygments_lexer": "ipython3",
   "version": "3.10.4"
  }
 },
 "nbformat": 4,
 "nbformat_minor": 4
}
