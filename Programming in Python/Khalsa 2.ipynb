{
 "cells": [
  {
   "cell_type": "code",
   "execution_count": 147,
   "metadata": {},
   "outputs": [],
   "source": [
    "#generate 2 arrays of random numbers and store their division in a third array\n",
    "#this means that if you have generated a, b random arrays, then\n",
    "#c[i]=a[i]/b[i]\n",
    "#the length of the 3 arrays should be 100 elements\n",
    "\n",
    "import random\n",
    "\n",
    "a = [0]*100\n",
    "b = [0]*100\n",
    "c = [0]*100\n",
    "\n",
    "for i in range(0, 100):\n",
    "    a[i] = random.uniform(0, 100)\n",
    "    b[i] = random.uniform(0, 100)\n",
    "    c[i] = a[i]/b[i]"
   ]
  },
  {
   "cell_type": "code",
   "execution_count": 148,
   "metadata": {},
   "outputs": [
    {
     "name": "stdout",
     "output_type": "stream",
     "text": [
      "List A\tMax 99.66869845334404 Min 0.8868346600249266\n",
      "List B\tMax 98.37059920176479 Min 0.3500068748134244\n",
      "List C\tMax 284.19755652231845 Min 0.025534120297500254\n"
     ]
    }
   ],
   "source": [
    "#find the maximum and the minimum elements in the 3 arrays\n",
    "\n",
    "list.sort(a)\n",
    "list.sort(b)\n",
    "list.sort(c)\n",
    "\n",
    "print(\"List A\\tMax\", a[99], \"Min\", a[0])\n",
    "print(\"List B\\tMax\", b[99], \"Min\", b[0])\n",
    "print(\"List C\\tMax\", c[99], \"Min\", c[0])"
   ]
  },
  {
   "cell_type": "code",
   "execution_count": 149,
   "metadata": {},
   "outputs": [
    {
     "name": "stdout",
     "output_type": "stream",
     "text": [
      "Elements in a:\t []\n",
      "Elements in b\t []\n",
      "Elements in c\t [0.5042771267246543, 0.5171635364423106, 0.5224279219035195, 0.5556639671248677, 0.5585797939739695, 0.5590470814504155, 0.5848411331438763, 0.6644802506419825]\n"
     ]
    }
   ],
   "source": [
    "#search for elements that are smaller than 0.7 and greater than 0.5 in all arrays\n",
    "\n",
    "aRun = True\n",
    "bRun = True\n",
    "cRun = True\n",
    "i = 0\n",
    "\n",
    "start = [0]*3\n",
    "end = [0]*3\n",
    "\n",
    "    #these arrays are still sorted from the previous block. so we go through to find the range where\n",
    "    #'smaller than .7 and greater than .5' holds, then return that range for printing.\n",
    "\n",
    "\n",
    "while(aRun or bRun or cRun):\n",
    "    #check a array\n",
    "    if(aRun and a[i] > .5 and a[i] <.7):\n",
    "        if(start[0] == 0):\n",
    "            start[0] = i\n",
    "        end[0] = i+1\n",
    "    elif(a[i] > .7):\n",
    "        aRun = False\n",
    "\n",
    "    #check b array\n",
    "    if(bRun and b[i] > .5 and b[i] <.7):\n",
    "        if(start[1] == 0):\n",
    "            start[1] = i\n",
    "        end[1] = i+1\n",
    "    elif(b[i] > .7):\n",
    "        bRun = False\n",
    "\n",
    "    #check c array\n",
    "    if(cRun and c[i] > .5 and c[i] <.7):\n",
    "        if(start[2] == 0):\n",
    "            start[2] = i\n",
    "        end[2] = i+1\n",
    "    elif(c[i] > .7):\n",
    "        cRun = False\n",
    "    \n",
    "    i +=1\n",
    "\n",
    "\n",
    "print(\"Elements in a:\\t\", a[start[0]:end[0]])\n",
    "print(\"Elements in b\\t\", b[start[1]:end[1]])\n",
    "print(\"Elements in c\\t\", c[start[2]:end[2]])\n",
    "\n"
   ]
  },
  {
   "cell_type": "code",
   "execution_count": 150,
   "metadata": {},
   "outputs": [
    {
     "name": "stdout",
     "output_type": "stream",
     "text": [
      "Winner of game is player 2\n"
     ]
    }
   ],
   "source": [
    "#suppose that you want to design a game, which runs for 5 iterations\n",
    "#the game contains 2 player. Each player will roll a dice once at each iteration\n",
    "#after 10 iterations the winner is the player, who have the largest sum of the outcome of \n",
    "#all iterations\n",
    "#for example if player 1 had 6, 6, 6, 6, 6\n",
    "#and player 2 got 5, 5, 5, 5, 5\n",
    "#then player 1 is the winner as the sum of the outcome of all iterations is larger \n",
    "#than player 2\n",
    "#in case the two player got similar results then your game should print \"no winner\"\n",
    "\n",
    "storage = [0, 0]\n",
    "\n",
    "for i in range(10):\n",
    "    for j in range(2):\n",
    "        storage[j] += random.randint(1,6)\n",
    "\n",
    "if(storage[0]==storage[1]):\n",
    "    print(\"no winner\")\n",
    "elif(storage[0]>storage[1]):\n",
    "    print(\"Winner of game is player 1\")\n",
    "else:\n",
    "    print(\"Winner of game is player 2\")\n"
   ]
  },
  {
   "cell_type": "code",
   "execution_count": 151,
   "metadata": {},
   "outputs": [
    {
     "name": "stdout",
     "output_type": "stream",
     "text": [
      "[9, 13, 0, 15, 42, 90, 81, 66, 76, 1, 97, 91, 70, 52, 38, 56, 12, 93, 44, 0, 44, 78, 26, 27, 43, 30, 45, 35, 81, 69, 30, 26, 34, 61, 28, 64, 89, 30, 91, 80, 29, 81, 98, 22, 4, 74, 55, 2, 1, 53] \n",
      " [53, 1, 2, 55, 74, 4, 22, 98, 81, 29, 80, 91, 30, 89, 64, 28, 61, 34, 26, 30, 69, 81, 35, 45, 30, 43, 27, 26, 78, 44, 0, 44, 93, 12, 56, 38, 52, 70, 91, 97, 1, 76, 66, 81, 90, 42, 15, 0, 13, 9]\n"
     ]
    }
   ],
   "source": [
    "#generate a random array of 50 elements, then create another array that is the reverse\n",
    "#order of array a. For example, if a = [1,2,3,4] then b=[4,2,3,1]\n",
    "\n",
    "a = [0]*50\n",
    "b = [0]*50\n",
    "\n",
    "for x in range(50):\n",
    "    a[x] = random.randint(0, 100)\n",
    "    b[-x-1] = a[x]\n",
    "\n",
    "print(a, \"\\n\", b)\n"
   ]
  },
  {
   "cell_type": "code",
   "execution_count": 152,
   "metadata": {},
   "outputs": [
    {
     "name": "stdout",
     "output_type": "stream",
     "text": [
      "[10, 80, 59, 53, 46, 66, 38, 4, 76, 48, 90, 28, 42, 20, 27, 63, 81, 37, 98, 80, 13, 0, 99, 18, 74, 54, 24, 87, 97, 15, 20, 42, 82, 59, 6, 34, 14, 58, 98, 94, 61, 24, 14, 20, 17, 74, 12, 2, 88, 79] \n",
      " [30, 240, 177, 159, 138, 198, 114, 12, 228, 144, 270, 84, 126, 60, 81, 189, 243, 111, 294, 240, 39, 0, 297, 54, 222, 162, 72, 261, 291, 45, 60, 126, 246, 177, 18, 102, 42, 174, 294, 282, 183, 72, 42, 60, 51, 222, 36, 6, 264, 237]\n"
     ]
    }
   ],
   "source": [
    "#generate a random array of 50 elements, then generate another array that equal the first\n",
    "#array muliplied by 3. For example, if a=[1,2,3], then b=[3,6,9]\n",
    "\n",
    "a = [0]*50\n",
    "b = [0]*50\n",
    "\n",
    "for x in range(50):\n",
    "    a[x] = random.randint(0, 100)\n",
    "    b[x] = a[x]*3\n",
    "\n",
    "print(a,\"\\n\", b)\n"
   ]
  },
  {
   "cell_type": "code",
   "execution_count": 153,
   "metadata": {},
   "outputs": [
    {
     "name": "stdout",
     "output_type": "stream",
     "text": [
      "2326\n"
     ]
    }
   ],
   "source": [
    "#calculate the sum of array a, excluding the max element\n",
    "#for example, if a =[1,2,3] then your code should print 3 because it will exclude 3\n",
    "\n",
    "list.sort(a)\n",
    "\n",
    "sum = 0\n",
    "\n",
    "for x in range(list.__len__(a)-1):\n",
    "    sum += a[x]\n",
    "\n",
    "print(sum)\n",
    "\n"
   ]
  },
  {
   "cell_type": "code",
   "execution_count": 154,
   "metadata": {},
   "outputs": [
    {
     "name": "stdout",
     "output_type": "stream",
     "text": [
      "Sum of all elements excluding primes\t 411907\n",
      "Sum of all prime numbers\t\t 88593\n"
     ]
    }
   ],
   "source": [
    "#calculate the sum of all elements from 0 to 1000 excluding the prime numbers\n",
    "#calculate the sum of all prime numbers from 0 to 1000\n",
    "\n",
    "nonPrimeSum = 0\n",
    "primeSum = 0\n",
    "\n",
    "for i in range(1001):\n",
    "    if(i%2!=0 and i%3!=0 and i%5!=0 and i%11!=0 and i%7!=0 and i%13!=0 and i%17!=0):\n",
    "        primeSum += i\n",
    "    else:\n",
    "        nonPrimeSum += i\n",
    "\n",
    "print(\"Sum of all elements excluding primes\\t\", nonPrimeSum)\n",
    "print(\"Sum of all prime numbers\\t\\t\", primeSum)\n"
   ]
  }
 ],
 "metadata": {
  "interpreter": {
   "hash": "8f7a17a3473fb48c11575ef85b282d7b93d1c9470bd4837b1ca1666d58dbead5"
  },
  "kernelspec": {
   "display_name": "Python 3.10.4 64-bit",
   "language": "python",
   "name": "python3"
  },
  "language_info": {
   "codemirror_mode": {
    "name": "ipython",
    "version": 3
   },
   "file_extension": ".py",
   "mimetype": "text/x-python",
   "name": "python",
   "nbconvert_exporter": "python",
   "pygments_lexer": "ipython3",
   "version": "3.10.4"
  }
 },
 "nbformat": 4,
 "nbformat_minor": 4
}
