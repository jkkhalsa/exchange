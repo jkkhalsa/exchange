{
 "cells": [
  {
   "cell_type": "code",
   "execution_count": 90,
   "metadata": {},
   "outputs": [],
   "source": [
    "#generate 2 arrays of random numbers and store their division in a third array\n",
    "#this means that if you have generated a, b random arrays, then\n",
    "#c[i]=a[i]/b[i]\n",
    "#the length of the 3 arrays should be 100 elements\n",
    "\n",
    "import random\n",
    "\n",
    "a = [0]*100\n",
    "b = [0]*100\n",
    "c = [0]*100\n",
    "\n",
    "for i in range(0, 100):\n",
    "    a[i] = random.uniform(0, 100)\n",
    "    b[i] = random.uniform(0, 100)\n",
    "    c[i] = a[i]/b[i]"
   ]
  },
  {
   "cell_type": "code",
   "execution_count": 91,
   "metadata": {},
   "outputs": [
    {
     "name": "stdout",
     "output_type": "stream",
     "text": [
      "List A\tMax 99.70246114349509 Min 0.5529682907000621\n",
      "List B\tMax 99.73772415980042 Min 0.10910905595906684\n",
      "List C\tMax 887.7473701824787 Min 0.031017570064232298\n"
     ]
    }
   ],
   "source": [
    "#find the maximum and the minimum elements in the 3 arrays\n",
    "\n",
    "list.sort(a)\n",
    "list.sort(b)\n",
    "list.sort(c)\n",
    "\n",
    "print(\"List A\\tMax\", a[99], \"Min\", a[0])\n",
    "print(\"List B\\tMax\", b[99], \"Min\", b[0])\n",
    "print(\"List C\\tMax\", c[99], \"Min\", c[0])"
   ]
  },
  {
   "cell_type": "code",
   "execution_count": 98,
   "metadata": {},
   "outputs": [
    {
     "name": "stdout",
     "output_type": "stream",
     "text": [
      "Elements in a:\t [0.5529682907000621]\n",
      "Elements in b\t []\n",
      "Elements in c\t [0.503514653708536, 0.5881155745186215, 0.602253229563083, 0.6214847137218884, 0.6486661064132863, 0.6688208142312707, 0.6975862655201407]\n"
     ]
    }
   ],
   "source": [
    "#search for elements that are smaller than 0.7 and greater than 0.5 in all arrays\n",
    "\n",
    "aRun = True\n",
    "bRun = True\n",
    "cRun = True\n",
    "i = 0\n",
    "\n",
    "start = [0]*3\n",
    "end = [0]*3\n",
    "\n",
    "    #these arrays are still sorted from the previous block. so we go through to find the range where\n",
    "    #'smaller than .7 and greater than .5' holds, then return that range for printing.\n",
    "\n",
    "\n",
    "while(aRun or bRun or cRun):\n",
    "    #check a array\n",
    "    if(aRun and a[i] > .5 and a[i] <.7):\n",
    "        if(start[0] == 0):\n",
    "            start[0] = i\n",
    "        end[0] = i+1\n",
    "    elif(a[i] > .7):\n",
    "        aRun = False\n",
    "\n",
    "    #check b array\n",
    "    if(bRun and b[i] > .5 and b[i] <.7):\n",
    "        if(start[1] == 0):\n",
    "            start[1] = i\n",
    "        end[1] = i+1\n",
    "    elif(b[i] > .7):\n",
    "        bRun = False\n",
    "\n",
    "    #check c array\n",
    "    if(cRun and c[i] > .5 and c[i] <.7):\n",
    "        if(start[2] == 0):\n",
    "            start[2] = i\n",
    "        end[2] = i+1\n",
    "    elif(c[i] > .7):\n",
    "        cRun = False\n",
    "    \n",
    "    i +=1\n",
    "\n",
    "\n",
    "print(\"Elements in a:\\t\", a[start[0]:end[0]])\n",
    "print(\"Elements in b\\t\", b[start[1]:end[1]])\n",
    "print(\"Elements in c\\t\", c[start[2]:end[2]])\n",
    "\n"
   ]
  },
  {
   "cell_type": "code",
   "execution_count": 93,
   "metadata": {},
   "outputs": [],
   "source": [
    "#suppose that you want to design a game, which runs for 5 iterations\n",
    "#the game contains 2 player. Each player will roll a dice once at each iteration\n",
    "#after 10 iterations the winner is the player, who have the largest sum of the outcome of \n",
    "#all iterations\n",
    "#for example if player 1 had 6, 6, 6, 6, 6\n",
    "#and player 2 got 5, 5, 5, 5, 5\n",
    "#then player 1 is the winner as the sum of the outcome of all iterations is larger \n",
    "#than player 2\n",
    "#in case the two player got similar results then your game should print \"no winner\"\n"
   ]
  },
  {
   "cell_type": "code",
   "execution_count": 94,
   "metadata": {},
   "outputs": [],
   "source": [
    "#generate a random array of 50 elements, then create another array that is the reverse\n",
    "#order of array a. For example, if a = [1,2,3,4] then b=[4,2,3,1]"
   ]
  },
  {
   "cell_type": "code",
   "execution_count": 95,
   "metadata": {},
   "outputs": [],
   "source": [
    "#generate a random array of 50 elements, then generate another array that equal the first\n",
    "#array muliplied by 3. For example, if a=[1,2,3], then b=[3,6,9]"
   ]
  },
  {
   "cell_type": "code",
   "execution_count": 96,
   "metadata": {},
   "outputs": [],
   "source": [
    "#calculate the sum of array a, excluding the max element\n",
    "#for example, if a =[1,2,3] then your code should print 3 because it will exclude 3"
   ]
  },
  {
   "cell_type": "code",
   "execution_count": 97,
   "metadata": {},
   "outputs": [],
   "source": [
    "#calculate the sum of all elements from 0 to 1000 excluding the prime numbers\n",
    "#calculate the sum of all prime numbers from 0 to 1000"
   ]
  },
  {
   "cell_type": "code",
   "execution_count": null,
   "metadata": {
    "scrolled": true
   },
   "outputs": [],
   "source": []
  },
  {
   "cell_type": "code",
   "execution_count": null,
   "metadata": {},
   "outputs": [],
   "source": []
  },
  {
   "cell_type": "code",
   "execution_count": null,
   "metadata": {},
   "outputs": [],
   "source": []
  }
 ],
 "metadata": {
  "interpreter": {
   "hash": "8f7a17a3473fb48c11575ef85b282d7b93d1c9470bd4837b1ca1666d58dbead5"
  },
  "kernelspec": {
   "display_name": "Python 3.10.4 64-bit",
   "language": "python",
   "name": "python3"
  },
  "language_info": {
   "codemirror_mode": {
    "name": "ipython",
    "version": 3
   },
   "file_extension": ".py",
   "mimetype": "text/x-python",
   "name": "python",
   "nbconvert_exporter": "python",
   "pygments_lexer": "ipython3",
   "version": "3.10.4"
  }
 },
 "nbformat": 4,
 "nbformat_minor": 4
}
