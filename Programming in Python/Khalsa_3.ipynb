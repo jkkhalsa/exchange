{
 "cells": [
  {
   "cell_type": "code",
   "execution_count": 6,
   "metadata": {},
   "outputs": [],
   "source": [
    "import matplotlib.pyplot as plt\n",
    "import numpy as np\n",
    "\n",
    "\n",
    "proteinNames = []\n",
    "dielectricConstants = []\n",
    "polarizability = []\n",
    "volume = []\n",
    "\n",
    "\n",
    "\n",
    "#split each line where commas appear, then add discrete parts into relevant lists\n",
    "#in separate function because it was easier to debug\n",
    "def splitLine(l):\n",
    "    temp = l.split(\",\")\n",
    "    proteinNames.append(temp[0])\n",
    "    dielectricConstants.append(temp[1])\n",
    "    polarizability.append(temp[2])\n",
    "    volume.append(temp[3])\n",
    "\n",
    "\n",
    "\n",
    "#iterate over entire file line by line\n",
    "with open('epsilon.csv') as text:\n",
    "    for index, line in enumerate(text):\n",
    "        splitLine(line)\n",
    "\n",
    "\n",
    "plt.plot(polarizability, volume, '-', label='Polarizability against Volume')\n",
    "#plt.legend(loc='best')\n",
    "\n",
    "plt.show()\n",
    "\n"
   ]
  }
 ],
 "metadata": {
  "interpreter": {
   "hash": "8f7a17a3473fb48c11575ef85b282d7b93d1c9470bd4837b1ca1666d58dbead5"
  },
  "kernelspec": {
   "display_name": "Python 3.10.4 64-bit",
   "language": "python",
   "name": "python3"
  },
  "language_info": {
   "codemirror_mode": {
    "name": "ipython",
    "version": 3
   },
   "file_extension": ".py",
   "mimetype": "text/x-python",
   "name": "python",
   "nbconvert_exporter": "python",
   "pygments_lexer": "ipython3",
   "version": "3.10.4"
  },
  "orig_nbformat": 4
 },
 "nbformat": 4,
 "nbformat_minor": 2
}
