{
 "cells": [
  {
   "cell_type": "code",
   "execution_count": 15,
   "metadata": {},
   "outputs": [
    {
     "ename": "TypeError",
     "evalue": "unsupported operand type(s) for +=: 'int' and 'str'",
     "output_type": "error",
     "traceback": [
      "\u001b[1;31m---------------------------------------------------------------------------\u001b[0m",
      "\u001b[1;31mTypeError\u001b[0m                                 Traceback (most recent call last)",
      "\u001b[1;32mc:\\Users\\trick\\Documents\\github\\exchange\\Programming in Python\\Khalsa_3.ipynb Cell 1'\u001b[0m in \u001b[0;36m<cell line: 42>\u001b[1;34m()\u001b[0m\n\u001b[0;32m     <a href='vscode-notebook-cell:/c%3A/Users/trick/Documents/github/exchange/Programming%20in%20Python/Khalsa_3.ipynb#ch0000000?line=36'>37</a>\u001b[0m         splitLine(line)\n\u001b[0;32m     <a href='vscode-notebook-cell:/c%3A/Users/trick/Documents/github/exchange/Programming%20in%20Python/Khalsa_3.ipynb#ch0000000?line=40'>41</a>\u001b[0m \u001b[39m#print averages.\u001b[39;00m\n\u001b[1;32m---> <a href='vscode-notebook-cell:/c%3A/Users/trick/Documents/github/exchange/Programming%20in%20Python/Khalsa_3.ipynb#ch0000000?line=41'>42</a>\u001b[0m \u001b[39mprint\u001b[39m(\u001b[39m\"\u001b[39m\u001b[39mAverage of protein names:\u001b[39m\u001b[39m\\t\u001b[39;00m\u001b[39m\"\u001b[39m, averages(proteinNames))\n\u001b[0;32m     <a href='vscode-notebook-cell:/c%3A/Users/trick/Documents/github/exchange/Programming%20in%20Python/Khalsa_3.ipynb#ch0000000?line=42'>43</a>\u001b[0m \u001b[39mprint\u001b[39m(\u001b[39m\"\u001b[39m\u001b[39mAverage of dielectric constants:\u001b[39m\u001b[39m\"\u001b[39m, averages(dielectricConstants))\n\u001b[0;32m     <a href='vscode-notebook-cell:/c%3A/Users/trick/Documents/github/exchange/Programming%20in%20Python/Khalsa_3.ipynb#ch0000000?line=43'>44</a>\u001b[0m \u001b[39mprint\u001b[39m(\u001b[39m\"\u001b[39m\u001b[39mAverage of polarizability:\u001b[39m\u001b[39m\\t\u001b[39;00m\u001b[39m\"\u001b[39m, averages(polarizability))\n",
      "\u001b[1;32mc:\\Users\\trick\\Documents\\github\\exchange\\Programming in Python\\Khalsa_3.ipynb Cell 1'\u001b[0m in \u001b[0;36maverages\u001b[1;34m(list)\u001b[0m\n\u001b[0;32m     <a href='vscode-notebook-cell:/c%3A/Users/trick/Documents/github/exchange/Programming%20in%20Python/Khalsa_3.ipynb#ch0000000?line=24'>25</a>\u001b[0m \u001b[39msum\u001b[39m \u001b[39m=\u001b[39m \u001b[39m0\u001b[39m\n\u001b[0;32m     <a href='vscode-notebook-cell:/c%3A/Users/trick/Documents/github/exchange/Programming%20in%20Python/Khalsa_3.ipynb#ch0000000?line=25'>26</a>\u001b[0m \u001b[39mfor\u001b[39;00m number \u001b[39min\u001b[39;00m \u001b[39mlist\u001b[39m:\n\u001b[1;32m---> <a href='vscode-notebook-cell:/c%3A/Users/trick/Documents/github/exchange/Programming%20in%20Python/Khalsa_3.ipynb#ch0000000?line=26'>27</a>\u001b[0m     \u001b[39msum\u001b[39m \u001b[39m+\u001b[39m\u001b[39m=\u001b[39m number\n\u001b[0;32m     <a href='vscode-notebook-cell:/c%3A/Users/trick/Documents/github/exchange/Programming%20in%20Python/Khalsa_3.ipynb#ch0000000?line=27'>28</a>\u001b[0m \u001b[39mreturn\u001b[39;00m \u001b[39msum\u001b[39m\u001b[39m/\u001b[39mlength\n",
      "\u001b[1;31mTypeError\u001b[0m: unsupported operand type(s) for +=: 'int' and 'str'"
     ]
    }
   ],
   "source": [
    "import matplotlib.pyplot as plt\n",
    "import numpy as np\n",
    "\n",
    "\n",
    "proteinNames = []\n",
    "dielectricConstants = []\n",
    "polarizability = []\n",
    "volume = []\n",
    "\n",
    "\n",
    "\n",
    "#split each line where commas appear, then add discrete parts into relevant lists\n",
    "#in separate function because it was easier to debug\n",
    "def splitLine(l):\n",
    "    temp = l.split(\",\")\n",
    "    proteinNames.append(temp[0])\n",
    "    dielectricConstants.append(float(temp[1]))\n",
    "    polarizability.append(float(temp[2]))\n",
    "    volume.append(float(temp[3]))\n",
    "\n",
    "\n",
    "def averages(list):\n",
    "    #function to get average of a list\n",
    "    length = len(list)\n",
    "    sum = 0\n",
    "    for number in list:\n",
    "        sum += number\n",
    "    return sum/length\n",
    "\n",
    "\n",
    "\n",
    "\n",
    "\n",
    "#code start.  iterate over entire file line by line\n",
    "with open('epsilon.csv') as text:\n",
    "    for index, line in enumerate(text):\n",
    "        splitLine(line)\n",
    "\n",
    "\n",
    "\n",
    "#print averages.\n",
    "print(\"Average of protein names:\\t ???\")\n",
    "print(\"Average of dielectric constants:\", averages(dielectricConstants))\n",
    "print(\"Average of polarizability:\\t\", averages(polarizability))\n",
    "print(\"Average of volumes:\\t\\t\", averages(volume))\n",
    "\n",
    "\n",
    "\n",
    "#plot the polariziability and volume\n",
    "plt.plot(polarizability, volume, '-', label=\"Polarizability against Volume\")\n",
    "plt.legend(loc='best')\n",
    "\n",
    "plt.show()\n",
    "\n",
    "#plot the histogram, using convention where number of bins is square root of data points\n",
    "plt.hist(dielectricConstants, round(np.sqrt(len(dielectricConstants))))\n",
    "plt.show()\n",
    "\n"
   ]
  }
 ],
 "metadata": {
  "interpreter": {
   "hash": "8f7a17a3473fb48c11575ef85b282d7b93d1c9470bd4837b1ca1666d58dbead5"
  },
  "kernelspec": {
   "display_name": "Python 3.10.4 64-bit",
   "language": "python",
   "name": "python3"
  },
  "language_info": {
   "codemirror_mode": {
    "name": "ipython",
    "version": 3
   },
   "file_extension": ".py",
   "mimetype": "text/x-python",
   "name": "python",
   "nbconvert_exporter": "python",
   "pygments_lexer": "ipython3",
   "version": "3.10.4"
  },
  "orig_nbformat": 4
 },
 "nbformat": 4,
 "nbformat_minor": 2
}
